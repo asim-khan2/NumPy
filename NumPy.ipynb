{
 "cells": [
  {
   "cell_type": "code",
   "execution_count": 1,
   "metadata": {},
   "outputs": [],
   "source": [
    "import numpy as np"
   ]
  },
  {
   "cell_type": "code",
   "execution_count": 2,
   "metadata": {},
   "outputs": [
    {
     "name": "stdout",
     "output_type": "stream",
     "text": [
      "[3, 4, 5, 3]\n",
      "<class 'list'>\n",
      "[3 5 6 3]\n",
      "<class 'numpy.ndarray'>\n"
     ]
    }
   ],
   "source": [
    "l = [3,4,5,3]\n",
    "print(l)\n",
    "print(type(l))\n",
    "\n",
    "arr = np.array([3,5,6,3])\n",
    "print(arr)\n",
    "print(type(arr))\n"
   ]
  },
  {
   "cell_type": "markdown",
   "metadata": {},
   "source": [
    "#### creating NumPy array"
   ]
  },
  {
   "cell_type": "code",
   "execution_count": 3,
   "metadata": {},
   "outputs": [
    {
     "name": "stdout",
     "output_type": "stream",
     "text": [
      "[3 5 6 3 2]\n"
     ]
    }
   ],
   "source": [
    "list = [3,5,6,3,2] # list\n",
    "\n",
    "# 1 method\n",
    "arr = np.array(list) # creating array using array() fun.\n",
    "print(arr)"
   ]
  },
  {
   "cell_type": "code",
   "execution_count": 4,
   "metadata": {},
   "outputs": [
    {
     "name": "stdout",
     "output_type": "stream",
     "text": [
      "[2 4 5 3 3]\n"
     ]
    }
   ],
   "source": [
    "#2 method\n",
    "arr = np.array([2,4,5,3,3])\n",
    "print(arr)"
   ]
  },
  {
   "cell_type": "markdown",
   "metadata": {},
   "source": [
    "#### 2D array"
   ]
  },
  {
   "cell_type": "code",
   "execution_count": 5,
   "metadata": {},
   "outputs": [
    {
     "name": "stdout",
     "output_type": "stream",
     "text": [
      "[[3 3 5 2 3]\n",
      " [3 5 2 1 3]]\n",
      "2\n",
      "\n"
     ]
    }
   ],
   "source": [
    "# 2D array \n",
    "\n",
    "list1 = [3,3,5,2,3]\n",
    "list2 = [3,5,2,1,3]\n",
    "\n",
    "arr = np.array([(list1), (list2)])\n",
    "print(arr)\n",
    "\n",
    "print(arr.ndim)\n",
    "print()"
   ]
  },
  {
   "cell_type": "code",
   "execution_count": 6,
   "metadata": {},
   "outputs": [],
   "source": [
    "# l = [] # empty list\n",
    "# for i in range(1,6):\n",
    "#     val = int(input(f\"Enter value at index {i} : \"))\n",
    "#     l.append(val)\n",
    "\n",
    "# arr = np.array(l)\n",
    "# print(arr)\n",
    "# print(\"Diamention : \", np.ndim(arr)) # 1 method\n",
    "# print(\"Diamention : \", arr.ndim) # 2 mehtod"
   ]
  },
  {
   "cell_type": "markdown",
   "metadata": {},
   "source": [
    "#### 3D array"
   ]
  },
  {
   "cell_type": "code",
   "execution_count": 7,
   "metadata": {},
   "outputs": [
    {
     "name": "stdout",
     "output_type": "stream",
     "text": [
      "[[[2 4]\n",
      "  [3 2]]]\n",
      "Diametion is :  3\n"
     ]
    }
   ],
   "source": [
    "arr = np.array([[[2,4],[3,2]]])\n",
    "print(arr)\n",
    "print(\"Diametion is : \", arr.ndim)"
   ]
  },
  {
   "cell_type": "markdown",
   "metadata": {},
   "source": [
    "N Diametion Array"
   ]
  },
  {
   "cell_type": "code",
   "execution_count": 8,
   "metadata": {},
   "outputs": [
    {
     "name": "stdout",
     "output_type": "stream",
     "text": [
      "[[[[[[[[[[3 4 2 4 2 6]]]]]]]]]]\n",
      "Diametion is :  10\n"
     ]
    }
   ],
   "source": [
    "arr = np.array([3,4,2,4,2,6],ndmin=10)\n",
    "print(arr)\n",
    "print(\"Diametion is : \", arr.ndim)"
   ]
  },
  {
   "cell_type": "markdown",
   "metadata": {},
   "source": [
    "Create the NumPy array using Function"
   ]
  },
  {
   "cell_type": "code",
   "execution_count": 9,
   "metadata": {},
   "outputs": [
    {
     "name": "stdout",
     "output_type": "stream",
     "text": [
      "[[0. 0. 0. 0.]\n",
      " [0. 0. 0. 0.]\n",
      " [0. 0. 0. 0.]]\n",
      "[[0 0 0 0]\n",
      " [0 0 0 0]\n",
      " [0 0 0 0]]\n",
      "converte array into n diamention\n",
      "[[[[[[[[[[0. 0. 0. 0.]\n",
      "         [0. 0. 0. 0.]\n",
      "         [0. 0. 0. 0.]]]]]]]]]]\n",
      "Diamention is :  10\n"
     ]
    }
   ],
   "source": [
    "arr = np.zeros((3,4)) # zeros() function\n",
    "\n",
    "# arr = np.zeros((3,4),dtype=int)  # another type convert data type of array\n",
    "print(arr)\n",
    "\n",
    "#converting array float to intger\n",
    "print(arr.astype(int))\n",
    "\n",
    "print(\"converte array into n diamention\")\n",
    "high_D_Arr = np.array(arr,ndmin=10)\n",
    "print(high_D_Arr)\n",
    "print(\"Diamention is : \", high_D_Arr.ndim)"
   ]
  },
  {
   "cell_type": "code",
   "execution_count": 10,
   "metadata": {},
   "outputs": [
    {
     "name": "stdout",
     "output_type": "stream",
     "text": [
      "[[1 1 1 1 1]\n",
      " [1 1 1 1 1]\n",
      " [1 1 1 1 1]]\n"
     ]
    }
   ],
   "source": [
    "# ones() function\n",
    "arr = np.ones((3,5),dtype=int)\n",
    "print(arr)"
   ]
  },
  {
   "cell_type": "code",
   "execution_count": 11,
   "metadata": {},
   "outputs": [
    {
     "name": "stdout",
     "output_type": "stream",
     "text": [
      "[[3 4 2]\n",
      " [4 2 6]]\n",
      "2\n"
     ]
    }
   ],
   "source": [
    "# empty() function\n",
    "\n",
    "arr = np.empty((2,3), dtype=int)\n",
    "print(arr)\n",
    "print(arr.ndim)"
   ]
  },
  {
   "cell_type": "code",
   "execution_count": 12,
   "metadata": {},
   "outputs": [
    {
     "name": "stdout",
     "output_type": "stream",
     "text": [
      "[[4.45057637e-308 8.90104239e-307 1.11255866e-306]\n",
      " [1.33511561e-306 1.11261027e-306 4.94065646e-322]]\n",
      "[[7 7 7]\n",
      " [7 7 7]]\n",
      "(2, 3)\n"
     ]
    }
   ],
   "source": [
    "arr = np.empty((2,3))\n",
    "print(arr)\n",
    "\n",
    "arr.fill(7) # fill() function modify the array by the given argument\n",
    "\n",
    "print(arr.astype(int))\n",
    "print(arr.shape)"
   ]
  },
  {
   "cell_type": "code",
   "execution_count": 13,
   "metadata": {},
   "outputs": [
    {
     "name": "stdout",
     "output_type": "stream",
     "text": [
      "(7,)\n",
      "[3 4 5 6 7 8 9]\n",
      "Diamention is :  1\n"
     ]
    }
   ],
   "source": [
    "# arange() fun.\n",
    "arr = np.arange(3,10)\n",
    "# arr = np.array(arr,ndmin=4) # converting into 4D\n",
    "print(arr.shape)\n",
    "print(arr)\n",
    "print(\"Diamention is : \", arr.ndim)"
   ]
  },
  {
   "cell_type": "code",
   "execution_count": 14,
   "metadata": {},
   "outputs": [
    {
     "name": "stdout",
     "output_type": "stream",
     "text": [
      "[[1 0 0 0]\n",
      " [0 1 0 0]\n",
      " [0 0 1 0]\n",
      " [0 0 0 1]]\n",
      "(4, 4)\n"
     ]
    }
   ],
   "source": [
    "# eye() fun. create the identiy metrices\n",
    "\n",
    "arr = np.eye(4,dtype=int)\n",
    "# arr.astype(int)\n",
    "# arr = np.array(arr,ndmin=10)\n",
    "print(arr)\n",
    "print(arr.shape)\n"
   ]
  },
  {
   "cell_type": "code",
   "execution_count": 15,
   "metadata": {},
   "outputs": [
    {
     "name": "stdout",
     "output_type": "stream",
     "text": [
      "[[1 0 0 0]\n",
      " [0 1 0 0]\n",
      " [0 0 1 0]]\n"
     ]
    }
   ],
   "source": [
    "arr = np.eye(3,4,dtype=int)\n",
    "print(arr)"
   ]
  },
  {
   "cell_type": "code",
   "execution_count": 16,
   "metadata": {},
   "outputs": [
    {
     "name": "stdout",
     "output_type": "stream",
     "text": [
      "[ 0  5 10 15 20]\n",
      "5.0\n"
     ]
    }
   ],
   "source": [
    "#linspace()\n",
    "\n",
    "arr, step = np.linspace(0,20,num=5,retstep=True,dtype=int)\n",
    "print(arr)\n",
    "print(step)"
   ]
  },
  {
   "cell_type": "markdown",
   "metadata": {},
   "source": [
    "Create array with the Random number "
   ]
  },
  {
   "cell_type": "code",
   "execution_count": 17,
   "metadata": {},
   "outputs": [
    {
     "name": "stdout",
     "output_type": "stream",
     "text": [
      "2\n",
      "[[0.10478737 0.0120317  0.689515   0.86495544]\n",
      " [0.67374828 0.00488869 0.48621317 0.8201306 ]\n",
      " [0.54405842 0.5868812  0.69342714 0.78669206]]\n"
     ]
    }
   ],
   "source": [
    "# rand(row,col)\n",
    "arr = np.random.rand(3,4) # generate the values b/w 0 & 1\n",
    "print(arr.ndim)\n",
    "print(arr)"
   ]
  },
  {
   "cell_type": "code",
   "execution_count": 18,
   "metadata": {},
   "outputs": [
    {
     "name": "stdout",
     "output_type": "stream",
     "text": [
      "[[7 5 5 7]\n",
      " [6 6 7 1]\n",
      " [1 2 9 9]]\n"
     ]
    }
   ],
   "source": [
    "# randint(start, end, total_no.)\n",
    "arr = np.random.randint(1,10,(3,4)) # generate 1 to 9, 3X4 metices\n",
    "print(arr)"
   ]
  },
  {
   "cell_type": "code",
   "execution_count": 19,
   "metadata": {},
   "outputs": [
    {
     "name": "stdout",
     "output_type": "stream",
     "text": [
      "[[ 0.03957107 -0.36199437  1.50408645  0.49038709]\n",
      " [ 0.70462334  2.47705855  0.59333827  1.47118678]\n",
      " [-0.93172255  0.91764977  0.90912214 -0.78880882]]\n"
     ]
    }
   ],
   "source": [
    "# randn(row,col)\n",
    "arr = np.random.randn(3,4) # generate the no. close to 0 -ve & +ve both\n",
    "print(arr)"
   ]
  },
  {
   "cell_type": "code",
   "execution_count": 20,
   "metadata": {},
   "outputs": [
    {
     "name": "stdout",
     "output_type": "stream",
     "text": [
      "[0.30971239 0.26789471 0.91009969 0.45004621]\n"
     ]
    }
   ],
   "source": [
    "# ranf(row, col)\n",
    "arr = np.random.ranf(4) # [0.0 to 1.0) generate the no. 0 to 1 (not include 1)\n",
    "# print(arr.reshape(2,2))\n",
    "print(arr)"
   ]
  },
  {
   "cell_type": "markdown",
   "metadata": {},
   "source": [
    "DATA TYPES "
   ]
  },
  {
   "cell_type": "code",
   "execution_count": 21,
   "metadata": {},
   "outputs": [
    {
     "name": "stdout",
     "output_type": "stream",
     "text": [
      "int64\n"
     ]
    }
   ],
   "source": [
    "arr = np.array([3,4,2,6])\n",
    "print(arr.dtype)"
   ]
  },
  {
   "cell_type": "code",
   "execution_count": 22,
   "metadata": {},
   "outputs": [
    {
     "name": "stdout",
     "output_type": "stream",
     "text": [
      "float64\n"
     ]
    }
   ],
   "source": [
    "#float\n",
    "arr = np.array([3.5,2.0,3.5,6.3])\n",
    "print(arr.dtype)"
   ]
  },
  {
   "cell_type": "code",
   "execution_count": 23,
   "metadata": {},
   "outputs": [
    {
     "name": "stdout",
     "output_type": "stream",
     "text": [
      "<U1\n"
     ]
    }
   ],
   "source": [
    "# string \n",
    "arr = np.array(['A','D','F','G'])\n",
    "print(arr.dtype)"
   ]
  },
  {
   "cell_type": "code",
   "execution_count": 24,
   "metadata": {},
   "outputs": [
    {
     "name": "stdout",
     "output_type": "stream",
     "text": [
      "<U21\n"
     ]
    }
   ],
   "source": [
    "#string & integer\n",
    "\n",
    "arr = np.array([\"A\",\"F\",\"C\",2,3,5])\n",
    "print(arr.dtype)"
   ]
  },
  {
   "cell_type": "code",
   "execution_count": 25,
   "metadata": {},
   "outputs": [
    {
     "name": "stdout",
     "output_type": "stream",
     "text": [
      "bool\n"
     ]
    }
   ],
   "source": [
    "#boolean\n",
    "\n",
    "arr = np.array([True, False, True])\n",
    "print(arr.dtype)"
   ]
  },
  {
   "cell_type": "markdown",
   "metadata": {},
   "source": [
    "change the data type of an array"
   ]
  },
  {
   "cell_type": "code",
   "execution_count": 26,
   "metadata": {},
   "outputs": [
    {
     "name": "stdout",
     "output_type": "stream",
     "text": [
      "['1' '4' '6' '3' '4']\n",
      "[1. 4. 6. 3. 4.]\n",
      "[ True  True  True  True  True]\n",
      "[1 4 6 3 4]\n",
      "[1. 4. 6. 3. 4.]\n"
     ]
    }
   ],
   "source": [
    "arr = np.array([1,4,6,3,4],dtype=str)\n",
    "print(arr)\n",
    "arr = np.array([1,4,6,3,4],dtype=float)\n",
    "print(arr)\n",
    "arr = np.array([1,4,6,3,4],dtype=bool)\n",
    "print(arr)\n",
    "arr = np.array([\"1\",\"4\",\"6\",\"3\",\"4\"],dtype=int)\n",
    "print(arr)\n",
    "arr = np.array([\"1\",\"4\",\"6\",\"3\",\"4\"],dtype=float)\n",
    "print(arr)\n"
   ]
  },
  {
   "cell_type": "code",
   "execution_count": 27,
   "metadata": {},
   "outputs": [
    {
     "name": "stdout",
     "output_type": "stream",
     "text": [
      "int8\n",
      "float32\n"
     ]
    }
   ],
   "source": [
    "arr = np.array([1,2,4,3],dtype=np.int8)\n",
    "print(arr.dtype)\n",
    "\n",
    "# another way\n",
    "arr = np.array([3,4,5,2],dtype=\"f\")\n",
    "print(arr.dtype)"
   ]
  },
  {
   "cell_type": "code",
   "execution_count": 28,
   "metadata": {},
   "outputs": [
    {
     "name": "stdout",
     "output_type": "stream",
     "text": [
      "int64\n",
      "[3 6 7 4]\n",
      "float64\n",
      "[3. 6. 7. 4.]\n",
      "int64\n",
      "[3 6 7 4]\n"
     ]
    }
   ],
   "source": [
    "arr = np.array([3,6,7,4])\n",
    "\n",
    "new = np.float64(arr)\n",
    "print(arr.dtype)\n",
    "print(arr)\n",
    "print(new.dtype)\n",
    "print(new)\n",
    "\n",
    "new1 = np.int_(new)\n",
    "print(arr.dtype)\n",
    "print(new1)"
   ]
  },
  {
   "cell_type": "code",
   "execution_count": 29,
   "metadata": {},
   "outputs": [
    {
     "name": "stdout",
     "output_type": "stream",
     "text": [
      "[3 5 2 4 5]\n",
      "[3. 5. 2. 4. 5.]\n"
     ]
    }
   ],
   "source": [
    "arr = np.array([3,5,2,4,5])\n",
    "new = arr.astype(float)\n",
    "print(arr)\n",
    "print(new)"
   ]
  },
  {
   "cell_type": "markdown",
   "metadata": {},
   "source": [
    "Shape & Reshape in NumPy array"
   ]
  },
  {
   "cell_type": "code",
   "execution_count": 30,
   "metadata": {},
   "outputs": [
    {
     "name": "stdout",
     "output_type": "stream",
     "text": [
      "(2, 3)\n"
     ]
    }
   ],
   "source": [
    "arr = np.array([[2,5,3],[2,5,5]])\n",
    "print(arr.shape)"
   ]
  },
  {
   "cell_type": "code",
   "execution_count": 31,
   "metadata": {},
   "outputs": [
    {
     "name": "stdout",
     "output_type": "stream",
     "text": [
      "4\n"
     ]
    }
   ],
   "source": [
    "# change diametions\n",
    "\n",
    "arr = np.array([2,5,67,3],ndmin=4)\n",
    "print(arr.ndim)"
   ]
  },
  {
   "cell_type": "code",
   "execution_count": 32,
   "metadata": {},
   "outputs": [
    {
     "name": "stdout",
     "output_type": "stream",
     "text": [
      "[1 2 3 4 5 6]\n",
      "\n",
      " [[1 2 3]\n",
      " [4 5 6]]\n"
     ]
    }
   ],
   "source": [
    "arr = np.array([1,2,3,4,5,6])\n",
    "print(arr)\n",
    "new = arr.reshape(2,3)\n",
    "print(\"\\n\" ,new)"
   ]
  },
  {
   "cell_type": "code",
   "execution_count": 33,
   "metadata": {},
   "outputs": [
    {
     "name": "stdout",
     "output_type": "stream",
     "text": [
      "[[[ 1  2]\n",
      "  [ 3  4]]\n",
      "\n",
      " [[ 5  6]\n",
      "  [ 7  8]]\n",
      "\n",
      " [[ 9 10]\n",
      "  [11 12]]]\n",
      "3\n",
      "[ 1  2  3  4  5  6  7  8  9 10 11 12]\n",
      "1\n"
     ]
    }
   ],
   "source": [
    "arr = np.array([1,2,3,4,5,6,7,8,9,10,11,12])\n",
    "\n",
    "new = arr.reshape(3,2,2) # reshape(bock,row,col)\n",
    "print(new)\n",
    "print(new.ndim)\n",
    "\n",
    "\n",
    "#convert into 1D array\n",
    "\n",
    "_1D = new.reshape(-1) # -1 convert into 1D array\n",
    "print(_1D)\n",
    "print(_1D.ndim)"
   ]
  },
  {
   "cell_type": "markdown",
   "metadata": {},
   "source": [
    "Arithmetics operations in NumPy Array"
   ]
  },
  {
   "cell_type": "code",
   "execution_count": 34,
   "metadata": {},
   "outputs": [
    {
     "name": "stdout",
     "output_type": "stream",
     "text": [
      "[[2 3 5 6]\n",
      " [3 4 1 3]]\n"
     ]
    }
   ],
   "source": [
    "arr = np.array([[2,3,5,6],[3,4,1,3]])\n",
    "arr = np.array([[2,3,5,6],[3,4,1,3]])\n",
    "\n",
    "add = arr \n",
    "print(add)"
   ]
  }
 ],
 "metadata": {
  "kernelspec": {
   "display_name": "Python 3",
   "language": "python",
   "name": "python3"
  },
  "language_info": {
   "codemirror_mode": {
    "name": "ipython",
    "version": 3
   },
   "file_extension": ".py",
   "mimetype": "text/x-python",
   "name": "python",
   "nbconvert_exporter": "python",
   "pygments_lexer": "ipython3",
   "version": "3.13.2"
  }
 },
 "nbformat": 4,
 "nbformat_minor": 2
}
